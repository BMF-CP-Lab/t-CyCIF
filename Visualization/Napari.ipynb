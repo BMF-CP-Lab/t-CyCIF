{
 "cells": [
  {
   "cell_type": "markdown",
   "id": "d9a0f5f9-6124-429f-b84c-2dc445fa77cb",
   "metadata": {},
   "source": [
    "Napari Viewer\n",
    "\n",
    "Author: Pablo Siliceo Portugal (psiliceop@gmail.com)"
   ]
  },
  {
   "cell_type": "markdown",
   "id": "1f282689-79c2-4d80-983e-0faf5c7807bb",
   "metadata": {},
   "source": [
    "Downloading NAPARI"
   ]
  },
  {
   "cell_type": "code",
   "execution_count": 1,
   "id": "66202919-70c1-41b0-9ba0-cb45a42bd58a",
   "metadata": {
    "tags": []
   },
   "outputs": [
    {
     "ename": "SyntaxError",
     "evalue": "invalid syntax (635086583.py, line 2)",
     "output_type": "error",
     "traceback": [
      "\u001b[1;36m  Cell \u001b[1;32mIn [1], line 2\u001b[1;36m\u001b[0m\n\u001b[1;33m    conda create -y -n napari-env -c conda-forge python=3.9\u001b[0m\n\u001b[1;37m          ^\u001b[0m\n\u001b[1;31mSyntaxError\u001b[0m\u001b[1;31m:\u001b[0m invalid syntax\n"
     ]
    }
   ],
   "source": [
    "#Downloading Napari for the first time\n",
    "conda create -y -n napari-env -c conda-forge python=3.9\n",
    "conda activate napari-env\n",
    "conda install -c conda-forge napari\n",
    "\n",
    "#****Napari can also be installed with pip using\n",
    "# python -m install \"napari[all]\""
   ]
  },
  {
   "cell_type": "markdown",
   "id": "3b595118-86f1-489f-8bb6-26bf95070544",
   "metadata": {},
   "source": [
    "Dependencies needed"
   ]
  },
  {
   "cell_type": "code",
   "execution_count": 2,
   "id": "dd02aef7-82f8-4182-a95a-91c629ca92c4",
   "metadata": {},
   "outputs": [],
   "source": [
    "try:\n",
    "    import napari\n",
    "    import pandas\n",
    "    from napari.layers import Shapes\n",
    "    from napari.utils.notifications import show_info\n",
    "except:\n",
    "    pass\n",
    "import pandas as pd\n",
    "import numpy as np\n",
    "import random\n",
    "import tifffile as tiff\n",
    "from tifffile import imread\n",
    "import dask.array as da\n",
    "from dask.cache import Cache\n",
    "import zarr\n",
    "import os\n",
    "import matplotlib.patches as mpatches\n",
    "import scipy.spatial.distance as sdistance\n",
    "import ast\n",
    "from matplotlib.backends.backend_qt5agg import FigureCanvas\n",
    "from matplotlib.figure import Figure\n",
    "from pathlib import Path\n",
    "from magicgui import event_loop, magicgui\n",
    "from PyQt5.QtWidgets import QMessageBox\n",
    "import sys\n",
    "from PyQt5.QtWidgets import QApplication, QPushButton\n",
    "from PyQt5.QtCore import Slot\n",
    "import enum\n",
    "from dask_image.imread import imread as daskread\n",
    "#from joblib import Parallel, delayed"
   ]
  },
  {
   "cell_type": "code",
   "execution_count": 4,
   "id": "687e99bc-2dd5-40f9-a703-7aad057e6d00",
   "metadata": {
    "tags": []
   },
   "outputs": [
    {
     "data": {
      "text/plain": [
       "<napari._qt.widgets.qt_viewer_dock_widget.QtViewerDockWidget at 0x1f98c3cf940>"
      ]
     },
     "execution_count": 4,
     "metadata": {},
     "output_type": "execute_result"
    }
   ],
   "source": [
    "#This code will open the Napari viewer with the necesary widgets to open and perform operations on the image \n",
    "viewer = napari.Viewer()\n",
    "\n",
    "#Widgets\n",
    "#Opening the image in the viewer\n",
    "@magicgui(call_button='Open image', layout='vertical')\n",
    "def open_large_image(image_path=Path(), contrast_limit_txt=Path(), ab_list_path = Path()):\n",
    "    ab = pd.read_csv(ab_list_path)\n",
    "    ab = list(ab[\"ABS\"])\n",
    "    cl_txt = str(contrast_limit_txt)\n",
    "    \n",
    "    if cl_txt =='.':\n",
    "    \n",
    "        image = tiff.TiffFile(image_path, is_ome=False) #is_ome=False\n",
    "        z = zarr.open(image.aszarr(), mode='r') # convert image to Zarr array\n",
    "        # Identify the number of pyramids\n",
    "        n_levels = len(image.series[0].levels) # pyramid\n",
    "\n",
    "        # If and if not pyramids are available\n",
    "        if n_levels > 1:\n",
    "            pyramid = [da.from_zarr(z[i]) for i in range(n_levels)]\n",
    "            multiscale = True\n",
    "        else:\n",
    "            pyramid = da.from_zarr(z)\n",
    "            multiscale = False  \n",
    "\n",
    "        viewer.add_image(\n",
    "        pyramid, multiscale=multiscale, channel_axis=0, name = ab, visible=False)\n",
    "\n",
    "    else:\n",
    "        cl = open(cl_txt, 'r')\n",
    "        c = cl.read()\n",
    "        contrast_limit = ast.literal_eval(c)\n",
    "        \n",
    "        image = tiff.TiffFile(image_path, is_ome=False) #is_ome=False\n",
    "        z = zarr.open(image.aszarr(), mode='r') # convert image to Zarr array\n",
    "        # Identify the number of pyramids\n",
    "        n_levels = len(image.series[0].levels) # pyramid\n",
    "\n",
    "        # If and if not pyramids are available\n",
    "        if n_levels > 1:\n",
    "            pyramid = [da.from_zarr(z[i]) for i in range(n_levels)]\n",
    "            multiscale = True\n",
    "        else:\n",
    "            pyramid = da.from_zarr(z)\n",
    "            multiscale = False  \n",
    "\n",
    "        viewer.add_image(\n",
    "        pyramid, multiscale=multiscale, channel_axis=0, name = ab, visible=False,contrast_limits=contrast_limit)\n",
    "        cl.close()\n",
    "\n",
    "#Open the image segmentation mask (if any) in the viewer\n",
    "@magicgui(call_button='Open mask', layout='vertical')\n",
    "def open_mask(mask_path=Path()):\n",
    "    seg_m = tiff.imread(mask_path)\n",
    "    if (len(seg_m.shape) > 2) and (seg_m.shape[0] > 1):\n",
    "        seg_m = seg_m[0]\n",
    "    viewer.add_labels(seg_m, name='MASK')\n",
    "\n",
    "#Loading previously created shapes in hte viewer        \n",
    "@magicgui(call_button = 'Load Shapes', layout='vertical', shapes_path={\"mode\": \"w\", \"mode\": \"d\"})\n",
    "def load_shapes(shapes_path: Path):\n",
    "    shapes_path = str(shapes_path) + \"/\"\n",
    "    shapes_list = os.listdir(shapes_path)\n",
    "    names = list()\n",
    "    for n in range(0,len(shapes_list)):\n",
    "        names.append(shapes_list[n].replace(\".txt\",\"\"))\n",
    "        locals()[str(names[n])] = list()\n",
    "    for i in range(0,len(shapes_list)):\n",
    "        shapes = open(shapes_path + shapes_list[i], 'r')\n",
    "        shapes = shapes.read()\n",
    "        shapes = shapes.replace('\\n', '').replace('      ','').replace('array(','').replace(')','')\n",
    "        shapes = ast.literal_eval(shapes)\n",
    "        for x in range(0,len(shapes)):\n",
    "            locals()[str(names[i])].append(np.array(shapes[x]))\n",
    "            shapes_layer = viewer.add_shapes(locals()[str(names[i])], shape_type='polygon', edge_width=0, \n",
    "                                     edge_color='#777777ff', face_color='white', name= names[i])\n",
    "            \n",
    "#Saving contrast limits done in the image       \n",
    "@magicgui(call_button='Save contrast limits', layout='vertical', output_file={\"mode\": \"w\", \"mode\": \"d\"})\n",
    "def save_contrast_limits(output_file: Path, ab_list_path = Path(), name = \"\"):\n",
    "    contrast_limit = list()\n",
    "    ab = pd.read_csv(ab_list_path)\n",
    "    ab = list(ab[\"ABS\"])\n",
    "    for antibody in ab:\n",
    "        contrast_limit.append(viewer.layers[antibody].contrast_limits)\n",
    "\n",
    "    with open(str(output_file) + \"/\" + name + \".txt\" , \"w\") as output:\n",
    "        output.write(str(contrast_limit))\n",
    "\n",
    "#Saving a shape done in the image (array of coordenates as a .txt file)    \n",
    "@magicgui(call_button='Save shape array', layout='vertical', output_file={\"mode\": \"w\", \"mode\": \"d\"})\n",
    "def save_shapes(output_file : Path, shape_name = \"\"):\n",
    "    shapes = viewer.layers[shape_name].data\n",
    "    with open(str(output_file) + \"/\" + shape_name + \".txt\", 'w') as output:\n",
    "        output.write(str(shapes))\n",
    "        \n",
    "#Obtaining a csv file of the cell IDs from a selected shape\n",
    "@magicgui(call_button='Cut and Save ROIs', filepath={\"mode\": \"w\", \"mode\": \"d\"})\n",
    "def cut_mask(filepath: Path, shape_name = \"\"):\n",
    "    mask_to_cut = viewer.layers.selection.active.data\n",
    "    newmask = np.copy(mask_to_cut)\n",
    "    shape = viewer.layers.selection.active.data.shape\n",
    "    selected_area = viewer.layers[shape_name].to_labels(labels_shape=shape)\n",
    "    removable_cells =[]\n",
    "    for i in range(0,mask_to_cut.shape[0]):\n",
    "        for j in range(0,mask_to_cut.shape[1]):\n",
    "            cell = mask_to_cut[i,j]\n",
    "            if selected_area[i,j] > 0 and cell not in removable_cells and cell > 0:\n",
    "                removable_cells.append(cell)\n",
    "    dict = {'cellid': removable_cells}\n",
    "    df = pd.DataFrame(dict)\n",
    "    df = df.astype(int)\n",
    "    df.to_csv(str(filepath) + '/' + shape_name + '_selected_cell_ids.csv', index=False)\n",
    "\n",
    "\n",
    "viewer.window.add_dock_widget(open_large_image)\n",
    "viewer.window.add_dock_widget(open_mask)\n",
    "viewer.window.add_dock_widget(load_shapes)\n",
    "viewer.window.add_dock_widget(save_contrast_limits)\n",
    "viewer.window.add_dock_widget(save_shapes)\n",
    "viewer.window.add_dock_widget(cut_mask)"
   ]
  },
  {
   "cell_type": "code",
   "execution_count": null,
   "id": "51386e2e-f6e3-4706-9077-088b924b4553",
   "metadata": {},
   "outputs": [],
   "source": []
  }
 ],
 "metadata": {
  "kernelspec": {
   "display_name": "Python 3 (ipykernel)",
   "language": "python",
   "name": "python3"
  },
  "language_info": {
   "codemirror_mode": {
    "name": "ipython",
    "version": 3
   },
   "file_extension": ".py",
   "mimetype": "text/x-python",
   "name": "python",
   "nbconvert_exporter": "python",
   "pygments_lexer": "ipython3",
   "version": "3.9.13"
  }
 },
 "nbformat": 4,
 "nbformat_minor": 5
}
